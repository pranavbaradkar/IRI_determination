{
  "nbformat": 4,
  "nbformat_minor": 0,
  "metadata": {
    "colab": {
      "name": "Mtech_Thesis_Integration.ipynb",
      "provenance": []
    },
    "kernelspec": {
      "name": "python3",
      "display_name": "Python 3"
    },
    "language_info": {
      "name": "python"
    }
  },
  "cells": [
    {
      "cell_type": "code",
      "metadata": {
        "id": "BlS9-38FbK9X"
      },
      "source": [
        "import pandas as pd\n"
      ],
      "execution_count": null,
      "outputs": []
    },
    {
      "cell_type": "code",
      "metadata": {
        "id": "2zAA911670Bt"
      },
      "source": [
        "df = pd.read_excel(\"/content/drive/MyDrive/Mtech_thesis/Airport Data.xlsx\")"
      ],
      "execution_count": null,
      "outputs": []
    },
    {
      "cell_type": "code",
      "metadata": {
        "id": "AN7SsSmeiQlj"
      },
      "source": [
        "df2 = df.copy()\n",
        "df2"
      ],
      "execution_count": null,
      "outputs": []
    },
    {
      "cell_type": "code",
      "metadata": {
        "id": "edH5SFB1bxur"
      },
      "source": [
        "df2['Y- Axis']"
      ],
      "execution_count": null,
      "outputs": []
    },
    {
      "cell_type": "code",
      "metadata": {
        "id": "zQ4HKyeQiXJ7"
      },
      "source": [
        "def curr_speed(initial_speed,current_acc,delta_t):\n",
        "  current_speed = initial_speed + (current_acc * delta_t)\n",
        "  print(current_speed)\n",
        "  return current_speed ; "
      ],
      "execution_count": null,
      "outputs": []
    },
    {
      "cell_type": "code",
      "metadata": {
        "id": "IKhRZ-CSkYW5"
      },
      "source": [
        "def displacement(current_disp,index,current_speed):\n",
        "  initial_disp = current_disp\n",
        "  initial_speed = current_speed\n",
        "  delta_t = df2['Time'][index] - df2['Time'][index-1]  \n",
        "  current_speed = curr_speed(initial_speed,df2['Z-Axis'][index],delta_t)\n",
        "  current_disp = initial_disp + ((initial_speed + current_speed)/2)*delta_t\n",
        "  return current_disp,current_speed"
      ],
      "execution_count": null,
      "outputs": []
    },
    {
      "cell_type": "code",
      "metadata": {
        "colab": {
          "base_uri": "https://localhost:8080/"
        },
        "id": "quS3Xo2bmmc0",
        "outputId": "bcace363-b862-4e61-ba78-f9dd15d867da"
      },
      "source": [
        "n = len(df2)\n",
        "n"
      ],
      "execution_count": null,
      "outputs": [
        {
          "output_type": "execute_result",
          "data": {
            "text/plain": [
              "4859"
            ]
          },
          "metadata": {
            "tags": []
          },
          "execution_count": 9
        }
      ]
    },
    {
      "cell_type": "code",
      "metadata": {
        "id": "xSRD08KxmwkE"
      },
      "source": [
        "a = []\n",
        "a.append(0)\n",
        "current_speed = 0 ; \n",
        "current_disp = 0 ; \n",
        "\n",
        "for i in range(1,n):\n",
        "  current_disp,current_speed = displacement(current_disp,i,current_speed) ; \n",
        "  a.append(current_disp)\n",
        "len(a)"
      ],
      "execution_count": null,
      "outputs": []
    },
    {
      "cell_type": "markdown",
      "metadata": {
        "id": "OyiYk9V84Nem"
      },
      "source": [
        ""
      ]
    },
    {
      "cell_type": "code",
      "metadata": {
        "id": "rE-kPyOmoLAO",
        "colab": {
          "base_uri": "https://localhost:8080/",
          "height": 49
        },
        "outputId": "bda02d4c-3235-4d1c-8848-e7b822ec7a65"
      },
      "source": [
        "result = pd.DataFrame(columns = [\"Time\",\"Vertical Disp\"]) \n",
        "result"
      ],
      "execution_count": null,
      "outputs": [
        {
          "output_type": "execute_result",
          "data": {
            "text/html": [
              "<div>\n",
              "<style scoped>\n",
              "    .dataframe tbody tr th:only-of-type {\n",
              "        vertical-align: middle;\n",
              "    }\n",
              "\n",
              "    .dataframe tbody tr th {\n",
              "        vertical-align: top;\n",
              "    }\n",
              "\n",
              "    .dataframe thead th {\n",
              "        text-align: right;\n",
              "    }\n",
              "</style>\n",
              "<table border=\"1\" class=\"dataframe\">\n",
              "  <thead>\n",
              "    <tr style=\"text-align: right;\">\n",
              "      <th></th>\n",
              "      <th>Time</th>\n",
              "      <th>Vertical Disp</th>\n",
              "    </tr>\n",
              "  </thead>\n",
              "  <tbody>\n",
              "  </tbody>\n",
              "</table>\n",
              "</div>"
            ],
            "text/plain": [
              "Empty DataFrame\n",
              "Columns: [Time, Vertical Disp]\n",
              "Index: []"
            ]
          },
          "metadata": {
            "tags": []
          },
          "execution_count": 11
        }
      ]
    },
    {
      "cell_type": "code",
      "metadata": {
        "id": "LMgdTP7vraqy"
      },
      "source": [
        "result['Time'] = df2['Time']\n",
        "result['Vertical Disp'] = a ; \n",
        "result"
      ],
      "execution_count": null,
      "outputs": []
    },
    {
      "cell_type": "code",
      "metadata": {
        "id": "vSr8UXYlssrk"
      },
      "source": [
        "result.to_csv('/content/drive/MyDrive/Mtech_thesis/accel_to_disp.csv')"
      ],
      "execution_count": null,
      "outputs": []
    }
  ]
}